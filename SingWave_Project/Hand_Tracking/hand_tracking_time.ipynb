{
 "cells": [
  {
   "cell_type": "code",
   "execution_count": 1,
   "id": "eebce65c-17a3-4cf6-b0ae-4bb587b6394b",
   "metadata": {},
   "outputs": [
    {
     "name": "stdout",
     "output_type": "stream",
     "text": [
      "손 추적 시작\n",
      "손 추적 중지\n"
     ]
    }
   ],
   "source": [
    "import cv2\n",
    "import mediapipe as mp\n",
    "import csv\n",
    "import time  # 시간 기록을 위해 추가\n",
    "\n",
    "# MediaPipe Hands 초기화\n",
    "mp_hands = mp.solutions.hands\n",
    "hands = mp_hands.Hands(static_image_mode=False, max_num_hands=2, min_detection_confidence=0.5)\n",
    "mp_drawing = mp.solutions.drawing_utils\n",
    "\n",
    "# 상태 변수\n",
    "is_tracking = False  # 손 추적 활성화 여부\n",
    "\n",
    "def start_tracking(event, x, y, flags, param):\n",
    "    global is_tracking\n",
    "    if event == cv2.EVENT_LBUTTONDOWN:  # 마우스 왼쪽 버튼 클릭\n",
    "        if 50 <= x <= 200 and 50 <= y <= 100:  # 버튼 영역\n",
    "            is_tracking = not is_tracking  # 상태 변경\n",
    "            print(\"손 추적 시작\" if is_tracking else \"손 추적 중지\")\n",
    "\n",
    "# CSV 파일 생성\n",
    "with open(\"hand_landmarks_with_time.csv\", \"w\", newline=\"\") as file:\n",
    "    writer = csv.writer(file)\n",
    "    writer.writerow([\"Time\", \"Frame\", \"Hand\", \"Landmark\", \"X\", \"Y\", \"Z\"])  # 시간 추가\n",
    "\n",
    "    # 웹캠 열기\n",
    "    cap = cv2.VideoCapture(0)\n",
    "    cv2.namedWindow(\"Hand Tracking\")\n",
    "    cv2.setMouseCallback(\"Hand Tracking\", start_tracking)\n",
    "\n",
    "    frame = 0  # 프레임 번호\n",
    "    start_time = time.time()  # 시작 시간 기록\n",
    "\n",
    "    while cap.isOpened():\n",
    "        success, image = cap.read()\n",
    "        if not success:\n",
    "            print(\"카메라 입력을 읽을 수 없습니다.\")\n",
    "            break\n",
    "\n",
    "        # 버튼 그리기\n",
    "        image = cv2.flip(image, 1)  # 화면 좌우 반전\n",
    "        cv2.rectangle(image, (50, 50), (200, 100), (0, 255, 0), -1)  # 버튼 배경\n",
    "        cv2.putText(image, \"Start\" if not is_tracking else \"Stop\", (60, 85),\n",
    "                    cv2.FONT_HERSHEY_SIMPLEX, 0.8, (255, 255, 255), 2)\n",
    "\n",
    "        # 손 추적 및 CSV 기록\n",
    "        if is_tracking:\n",
    "            image_rgb = cv2.cvtColor(image, cv2.COLOR_BGR2RGB)\n",
    "            results = hands.process(image_rgb)\n",
    "\n",
    "            # 현재 시간 계산\n",
    "            current_time = time.time() - start_time\n",
    "\n",
    "            # 랜드마크 그리기 및 기록\n",
    "            if results.multi_hand_landmarks:\n",
    "                for hand_idx, hand_landmarks in enumerate(results.multi_hand_landmarks):\n",
    "                    # 손의 라벨 (Left 또는 Right) 가져오기\n",
    "                    hand_label = \"Unknown\"\n",
    "                    if results.multi_handedness:\n",
    "                        hand_label = results.multi_handedness[hand_idx].classification[0].label\n",
    "\n",
    "                    # 랜드마크 데이터 기록 및 그리기\n",
    "                    mp_drawing.draw_landmarks(image, hand_landmarks, mp_hands.HAND_CONNECTIONS)\n",
    "                    for idx, landmark in enumerate(hand_landmarks.landmark):\n",
    "                        writer.writerow([current_time, frame, hand_label, idx, landmark.x, landmark.y, landmark.z])\n",
    "            frame += 1\n",
    "\n",
    "        # 화면 표시\n",
    "        cv2.imshow(\"Hand Tracking\", image)\n",
    "\n",
    "        # 'q'를 누르면 종료\n",
    "        if cv2.waitKey(1) & 0xFF == ord('q'):\n",
    "            break\n",
    "\n",
    "    cap.release()\n",
    "    cv2.destroyAllWindows()\n"
   ]
  },
  {
   "cell_type": "code",
   "execution_count": null,
   "id": "42806656-a315-4b6a-9875-81782e865bf9",
   "metadata": {},
   "outputs": [],
   "source": []
  }
 ],
 "metadata": {
  "kernelspec": {
   "display_name": "Python (mediapipe-env)",
   "language": "python",
   "name": "mediapipe-env"
  },
  "language_info": {
   "codemirror_mode": {
    "name": "ipython",
    "version": 3
   },
   "file_extension": ".py",
   "mimetype": "text/x-python",
   "name": "python",
   "nbconvert_exporter": "python",
   "pygments_lexer": "ipython3",
   "version": "3.10.15"
  }
 },
 "nbformat": 4,
 "nbformat_minor": 5
}
